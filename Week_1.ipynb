{
 "cells": [
  {
   "cell_type": "markdown",
   "metadata": {},
   "source": [
    "# Week 1 handin"
   ]
  },
  {
   "cell_type": "markdown",
   "metadata": {},
   "source": [
    "## 01 Assignment\n",
    "http://127.0.0.1:8888/notebooks/01-Exercise.ipynb\n",
    "https://github.com/Hartmannsolution/docker_notebooks/blob/master/notebooks/01-Exercise.ipynb"
   ]
  },
  {
   "cell_type": "markdown",
   "metadata": {},
   "source": [
    "## 02 Status\n",
    "Most assignments in part 1 have been completed, 1.5 is missing as i'm unsure how to complete the task\n",
    "uncertain if 1.3 or 2.1 have been missunderstood, as the question doubtfully seeks the same answer"
   ]
  },
  {
   "cell_type": "markdown",
   "metadata": {},
   "source": [
    "## 03 Solution part 1"
   ]
  },
  {
   "cell_type": "code",
   "execution_count": 5,
   "metadata": {},
   "outputs": [
    {
     "name": "stdout",
     "output_type": "stream",
     "text": [
      "['Hertug', 'Hubert', 'Henrik']\n"
     ]
    }
   ],
   "source": [
    "# 1.1 - Iterate a list of names to return a list of the names starting with H\n",
    "lst = {'Henrik', 'Hubert', 'Osvald', 'Knud', 'Hertug'}\n",
    "lst_comp = [e for e in lst if e[0]=='H']\n",
    "print(lst_comp)"
   ]
  },
  {
   "cell_type": "code",
   "execution_count": 7,
   "metadata": {},
   "outputs": [
    {
     "name": "stdout",
     "output_type": "stream",
     "text": [
      "[1, 8, 27, 64, 125, 216, 343, 512, 729, 1000, 1331, 1728, 2197, 2744, 3375, 4096, 4913, 5832, 6859, 8000, 9261, 10648, 12167, 13824, 15625, 17576, 19683, 21952, 24389, 27000, 29791, 32768, 35937, 39304, 42875, 46656, 50653, 54872, 59319, 64000, 68921, 74088, 79507, 85184, 91125, 97336, 103823, 110592, 117649, 125000, 132651, 140608, 148877, 157464, 166375, 175616, 185193, 195112, 205379, 216000, 226981, 238328, 250047, 262144, 274625, 287496, 300763, 314432, 328509, 343000, 357911, 373248, 389017, 405224, 421875, 438976, 456533, 474552, 493039, 512000, 531441, 551368, 571787, 592704, 614125, 636056, 658503, 681472, 704969, 729000, 753571, 778688, 804357, 830584, 857375, 884736, 912673, 941192, 970299, 1000000]\n"
     ]
    }
   ],
   "source": [
    "# 1.2 - In one line create a list of the numbers 1-100 to the power of 3\n",
    "lst = list(range(1,101))\n",
    "lst_comp = [e**3 for e in lst]\n",
    "print(lst_comp)"
   ]
  },
  {
   "cell_type": "code",
   "execution_count": 88,
   "metadata": {},
   "outputs": [
    {
     "name": "stdout",
     "output_type": "stream",
     "text": [
      "[(6, 'Henrik'), (6, 'Hubert'), (6, 'Osvald'), (4, 'Knud'), (6, 'Hertug')]\n"
     ]
    }
   ],
   "source": [
    "# 1.3 - Iterate a list of names to create a list of tuples where the tuples first value is the length of the name and the second is the name\n",
    "lst = ['Henrik', 'Hubert', 'Osvald', 'Knud', 'Hertug']\n",
    "lst_comp = [tuple([len(e),e]) for e in lst]\n",
    "print(lst_comp)"
   ]
  },
  {
   "cell_type": "code",
   "execution_count": 53,
   "metadata": {},
   "outputs": [
    {
     "name": "stdout",
     "output_type": "stream",
     "text": [
      "['2', '3', '4', '2', '4', '2', '3', '3', '4', '8']\n"
     ]
    }
   ],
   "source": [
    "# 1.4 - Iterate over each character in a string and get only those that are nummeric\n",
    "my_string = 'sidgfajk23424asdfsad2334ad8'\n",
    "new_string = [e for e in list(my_string) if e.isnumeric()]\n",
    "print(new_string)"
   ]
  },
  {
   "cell_type": "code",
   "execution_count": 94,
   "metadata": {},
   "outputs": [
    {
     "name": "stdout",
     "output_type": "stream",
     "text": [
      "{'4+3', '3+1', '2+4', '1+6', '2+3', '3+3', '3+2', '2+2', '5+5', '4+1', '6+3', '5+3', '4+5', '5+4', '3+6', '6+6', '1+4', '1+1', '2+6', '5+6', '3+5', '6+5', '6+4', '4+6', '2+1', '4+4', '2+5', '1+3', '3+4', '6+1', '4+2', '6+2', '1+5', '5+1', '5+2', '1+2'}\n"
     ]
    }
   ],
   "source": [
    "# 1.5 - Using only a list comprehension wrapped in set() get all possible combination from throwing 2 dice (hint use 2 for loops in a single list comprehension)\n",
    "dice = range(1,7)\n",
    "dice_lst = set([str(e)+\"+\"+str(f) for e in dice for f in dice])\n",
    "print(dice_lst)"
   ]
  },
  {
   "cell_type": "markdown",
   "metadata": {},
   "source": [
    "## 04 Solution part 2"
   ]
  },
  {
   "cell_type": "code",
   "execution_count": 71,
   "metadata": {},
   "outputs": [
    {
     "name": "stdout",
     "output_type": "stream",
     "text": [
      "{'Hertug': 6, 'Hubert': 6, 'Osvald': 6, 'Knud': 4, 'Henrik': 6}\n"
     ]
    }
   ],
   "source": [
    "# 2.1 - Iterate a list of names and create a dictionary where key is the name and value is the length of the name\n",
    "lst = {'Henrik', 'Hubert', 'Osvald', 'Knud', 'Hertug'}\n",
    "lst_comp = {e:len(e) for e in lst}\n",
    "print(lst_comp)"
   ]
  },
  {
   "cell_type": "code",
   "execution_count": 84,
   "metadata": {},
   "outputs": [
    {
     "name": "stdout",
     "output_type": "stream",
     "text": [
      "{2: 1.4142135623730951, 3: 1.7320508075688772, 4: 2.0, 5: 2.23606797749979, 6: 2.449489742783178, 7: 2.6457513110645907, 8: 2.8284271247461903, 9: 3.0, 10: 3.1622776601683795, 11: 3.3166247903554, 12: 3.4641016151377544, 13: 3.605551275463989, 14: 3.7416573867739413, 15: 3.872983346207417, 16: 4.0, 17: 4.123105625617661, 18: 4.242640687119285, 19: 4.358898943540674, 20: 4.47213595499958, 21: 4.58257569495584}\n"
     ]
    }
   ],
   "source": [
    "# 2.2 - Iterate a list of numbers and create a dictionary with {key:value} being {number:squareroot_of_number}\n",
    "import math\n",
    "lst = range(2,22)\n",
    "lst_comp = {e:math.sqrt(e) for e in lst}\n",
    "print(lst_comp)"
   ]
  },
  {
   "cell_type": "markdown",
   "metadata": {},
   "source": [
    "## 05 Solution part 3"
   ]
  },
  {
   "cell_type": "code",
   "execution_count": null,
   "metadata": {},
   "outputs": [],
   "source": [
    "# 3.1 - Progammatically using loops create a small program to produce a dictionary with all the 2 dice throw combinations as keys and their likelyhood in percent as values\n"
   ]
  }
 ],
 "metadata": {
  "kernelspec": {
   "display_name": "Python 3",
   "language": "python",
   "name": "python3"
  },
  "language_info": {
   "codemirror_mode": {
    "name": "ipython",
    "version": 3
   },
   "file_extension": ".py",
   "mimetype": "text/x-python",
   "name": "python",
   "nbconvert_exporter": "python",
   "pygments_lexer": "ipython3",
   "version": "3.7.6"
  }
 },
 "nbformat": 4,
 "nbformat_minor": 4
}
