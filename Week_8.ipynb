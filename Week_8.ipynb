{
 "cells": [
  {
   "cell_type": "markdown",
   "metadata": {},
   "source": [
    "# Week 7 Hand-in"
   ]
  },
  {
   "cell_type": "markdown",
   "metadata": {},
   "source": [
    "## Assignment\n",
    "\n",
    "https://github.com/SebastianBentley/Python_Exercises"
   ]
  },
  {
   "cell_type": "markdown",
   "metadata": {},
   "source": [
    "## Status\n"
   ]
  },
  {
   "cell_type": "markdown",
   "metadata": {},
   "source": [
    "Opgaverne er lavet i samarbejde med Sebastian Steen Lundby hansen"
   ]
  },
  {
   "cell_type": "markdown",
   "metadata": {},
   "source": [
    "# Imports"
   ]
  },
  {
   "cell_type": "code",
   "execution_count": 1,
   "metadata": {},
   "outputs": [],
   "source": [
    "import bs4\n",
    "import requests\n",
    "import re\n",
    "import matplotlib.pyplot as plt\n",
    "import mysql.connector as mysql"
   ]
  },
  {
   "cell_type": "markdown",
   "metadata": {},
   "source": [
    "## Solution for ex 1"
   ]
  },
  {
   "cell_type": "code",
   "execution_count": 27,
   "metadata": {},
   "outputs": [
    {
     "name": "stdout",
     "output_type": "stream",
     "text": [
      "{'ASUS TUF Gaming A15 FX506IV 15,6\" FHD 144 Hz': '10.995,-', 'ASUS ZenBook Pro Duo 15,6\" UHD/4K OLED Touch': '21.990,-', 'MSI Stealth 15M 15,6\" FHD': '9.995,-', 'ASUS ROG Zephyrus G15 GA502DU 15,6\" FHD 144 Hz': '8.490,-', 'Razer Blade Stealth 13,3\" FHD 120 Hz': '12.995,-', 'Acer Predator Helios 300 PH315-53 15,6\" FHD 144 Hz': '10.990,-', 'MSI GS66 Stealth 15,6\" FHD 300 Hz': '17.995,-', 'MSI GE66 Raider 15,6\" FHD 240 Hz': '14.495,-', 'MSI GS75 Stealth 17,3\" FHD 300 Hz': '19.995,-', 'Komplett Khameleon P9 Bærbar Gaming PC': '11.499,-', 'Lenovo IdeaPad Gaming 3 15,6\" FHD 120 Hz': '6.990,-', 'ASUS ROG Zephyrus S17 17,3\" FHD 144 Hz G-SYNC': '16.990,-', 'ASUS Zephyrus G14 14\" FHD 120 Hz med AniMe Matrix LED': '9.995,-', 'ASUS ROG STRIX G G712LW 17,3\" FHD 144 Hz': '12.795,-', 'MSI P65 Creator 15,6\" Full HD': '10.995,-', 'MSI GF75 Thin 17,3\" FHD 144 Hz': '8.995,-', 'ASUS ROG STRIX G G512LV 15,6\" FHD 144 Hz (Glacier Blue)': '9.990,-', 'MSI Prestige 15 15,6\" Full HD': '9.495,-'}\n",
      "ASUS TUF Gaming A15 FX506IV 15,6\" FHD 144 Hz 10.995,-\n",
      "ASUS ZenBook Pro Duo 15,6\" UHD/4K OLED Touch 21.990,-\n",
      "MSI Stealth 15M 15,6\" FHD 9.995,-\n",
      "ASUS ROG Zephyrus G15 GA502DU 15,6\" FHD 144 Hz 8.490,-\n",
      "Razer Blade Stealth 13,3\" FHD 120 Hz 12.995,-\n",
      "Acer Predator Helios 300 PH315-53 15,6\" FHD 144 Hz 10.990,-\n",
      "MSI GS66 Stealth 15,6\" FHD 300 Hz 17.995,-\n",
      "MSI GE66 Raider 15,6\" FHD 240 Hz 14.495,-\n",
      "MSI GS75 Stealth 17,3\" FHD 300 Hz 19.995,-\n",
      "Komplett Khameleon P9 Bærbar Gaming PC 11.499,-\n",
      "Lenovo IdeaPad Gaming 3 15,6\" FHD 120 Hz 6.990,-\n",
      "ASUS ROG Zephyrus S17 17,3\" FHD 144 Hz G-SYNC 16.990,-\n",
      "ASUS Zephyrus G14 14\" FHD 120 Hz med AniMe Matrix LED 9.995,-\n",
      "ASUS ROG STRIX G G712LW 17,3\" FHD 144 Hz 12.795,-\n",
      "MSI P65 Creator 15,6\" Full HD 10.995,-\n",
      "MSI GF75 Thin 17,3\" FHD 144 Hz 8.995,-\n",
      "ASUS ROG STRIX G G512LV 15,6\" FHD 144 Hz (Glacier Blue) 9.990,-\n",
      "MSI Prestige 15 15,6\" Full HD 9.495,-\n"
     ]
    }
   ],
   "source": [
    "url = 'https://www.komplett.dk/category/21661/gaming/gaming-pc/baerbar'\n",
    "r = requests.get(url)\n",
    "r.raise_for_status()\n",
    "soup = bs4.BeautifulSoup(r.text, 'html.parser')\n",
    "price_list_div = soup.select('.product-list .product-price-now')\n",
    "name_list_div = soup.select('.product-list .text-content h2')\n",
    "\n",
    "my_dict = {}\n",
    "for idx in range(0, len(name_list_div)):\n",
    "    my_dict[name_list_div[idx].getText()] = price_list_div[idx].getText()\n",
    "\n",
    "print(my_dict)\n",
    "\n",
    "db = mysql.connect(\n",
    "    host = \"db\",\n",
    "    user = \"root\",\n",
    "    passwd = \"root\",\n",
    "    db = \"db\"\n",
    ")\n",
    "cur = db.cursor()\n",
    "\n",
    "\n",
    "for key,value in my_dict.items():\n",
    "    print(key, value)\n",
    "    query = 'INSERT INTO week8 (name, price) VALUES (\\''+key+'\\', \\''+value+'\\');'\n",
    "    cur.execute(query)\n",
    "\n",
    "db.commit()"
   ]
  },
  {
   "cell_type": "markdown",
   "metadata": {},
   "source": [
    "## Solution for ex 2"
   ]
  },
  {
   "cell_type": "markdown",
   "metadata": {},
   "source": [
    "Løsningen findes i python_handin_template/flask/flask_week8.py"
   ]
  },
  {
   "cell_type": "markdown",
   "metadata": {},
   "source": [
    "## Solution for ex 3"
   ]
  },
  {
   "cell_type": "code",
   "execution_count": 17,
   "metadata": {},
   "outputs": [
    {
     "name": "stdout",
     "output_type": "stream",
     "text": [
      "[('ASUS TUF Gaming A15 FX506IV 15,6\\\\\" FHD 144 Hz\",\"10.995,-\"],[\"ASUS ZenBook Pro Duo 15,6\\\\\" UHD/4K OLED Touch\",\"21.990,-\"],[\"MSI Stealth 15M 15,6\\\\\" FHD\",\"9.995,-\"],[\"ASUS ROG Zephyrus G15 GA502DU 15,6\\\\\" FHD 144 Hz\",\"8.490,-\"],[\"Razer Blade Stealth 13,3\\\\\" FHD 120 Hz\",\"12.995,-\"],[\"Acer Predator Helios 300 PH315-53 15,6\\\\\" FHD 144 Hz\",\"10.990,-\"],[\"MSI GS66 Stealth 15,6\\\\\" FHD 300 Hz\",\"17.995,-\"],[\"MSI GE66 Raider 15,6\\\\\" FHD 240 Hz\",\"14.495,-\"],[\"MSI GS75 Stealth 17,3\\\\\" FHD 300 Hz\",\"19.995,-\"],[\"Komplett Khameleon P9 B\\\\u00e6rbar Gaming PC\",\"11.499,-\"],[\"Lenovo IdeaPad Gaming 3 15,6\\\\\" FHD 120 Hz\",\"6.990,-\"],[\"ASUS ROG Zephyrus S17 17,3\\\\\" FHD 144 Hz G-SYNC\",\"16.990,-\"],[\"ASUS Zephyrus G14 14\\\\\" FHD 120 Hz med AniMe Matrix LED\",\"9.995,-\"],[\"ASUS ROG STRIX G G712LW 17,3\\\\\" FHD 144 Hz\",\"12.795,-\"],[\"MSI P65 Creator 15,6\\\\\" Full HD\",\"10.995,-\"],[\"MSI GF75 Thin 17,3\\\\\" FHD 144 Hz\",\"8.995,-\"],[\"ASUS ROG STRIX G G512LV 15,6\\\\\" FHD 144 Hz (Glacier Blue)\",\"9.990,-\"],[\"MSI Prestige 15 15,6\\\\\" Full HD', '9.495')]\n"
     ]
    }
   ],
   "source": [
    "url = 'http://127.0.0.1:5000/api/laptops/all'\n",
    "r = requests.get(url)\n",
    "r.raise_for_status()\n",
    "soup = bs4.BeautifulSoup(r.text, 'html.parser')\n",
    "\n",
    "re_name = re.compile('(\\w.*)\\\",\\\"(\\d+\\.\\d+)')\n",
    "m = re_name.findall(str(soup))\n",
    "print(re_name.findall(str(soup)))"
   ]
  }
 ],
 "metadata": {
  "kernelspec": {
   "display_name": "Python 3",
   "language": "python",
   "name": "python3"
  },
  "language_info": {
   "codemirror_mode": {
    "name": "ipython",
    "version": 3
   },
   "file_extension": ".py",
   "mimetype": "text/x-python",
   "name": "python",
   "nbconvert_exporter": "python",
   "pygments_lexer": "ipython3",
   "version": "3.7.6"
  }
 },
 "nbformat": 4,
 "nbformat_minor": 4
}
